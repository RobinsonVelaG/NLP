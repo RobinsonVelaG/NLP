{
 "cells": [
  {
   "cell_type": "markdown",
   "metadata": {},
   "source": [
    "<img src='https://encrypted-tbn0.gstatic.com/images?q=tbn%3AANd9GcQ-VfNtOyJbsaxu43Kztf_cv1mgBG6ZIQZEVw&usqp=CAU'>\n",
    "\n",
    "# Procesamiento de Lenguage Natural\n",
    "\n",
    "## Taller #3: Web Scraping\n",
    "`Fecha de entrega: Marzo 10, 2021. (Antes del inicio de la próxima clase).`"
   ]
  },
  {
   "cell_type": "markdown",
   "metadata": {},
   "source": [
    "# Punto 1:\n",
    "\n",
    "- `[15 pts]` Hacer Web Scraping de 10 animales en Wikipedia (en búcle)\n",
    "- `[10 pts]` Obtener el **encabezado** de cada animal\n",
    "- `[15 pts]` Obtener todos los **textos** que están en las etiquetas de negrilla."
   ]
  },
  {
   "cell_type": "code",
   "execution_count": 1,
   "metadata": {},
   "outputs": [],
   "source": [
    "import bs4 as bs \n",
    "import urllib.request\n",
    "import array"
   ]
  },
  {
   "cell_type": "code",
   "execution_count": 53,
   "metadata": {},
   "outputs": [
    {
     "name": "stdout",
     "output_type": "stream",
     "text": [
      "#Encabezado: Felis silvestris catus\n",
      "#Palabras en negrilla:\n",
      "gato doméstico\n",
      "gato dom*stico\n",
      "Felis silvestris catus\n",
      "gato\n",
      "minino\n",
      "michino\n",
      "michi\n",
      "micho\n",
      "mizo\n",
      "miz\n",
      "morroño\n",
      "morro*o\n",
      "morrongo\n"
     ]
    }
   ],
   "source": [
    "#Una página\n",
    "enlace = \"https://es.wikipedia.org/wiki/Felis_silvestris_catus\"\n",
    "\n",
    "request = urllib.request.Request(enlace, headers={'User-Agent': 'Mozilla/5.0'})\n",
    "webpage = urllib.request.urlopen(request)\n",
    "source = webpage.read()\n",
    "webpage.close()\n",
    "soup = bs.BeautifulSoup(source,'html.parser')\n",
    "titulos = soup.find('h1').text\n",
    "parrafos = soup.find('p').find_all('b')\n",
    "print('#Encabezado:',titulos)\n",
    "print('#Palabras en negrilla:')\n",
    "for negrillas in parrafos:\n",
    "    palabras = negrillas.text\n",
    "    patron = r'[^a-zA-Z\\s]'\n",
    "    print(palabras)\n",
    "    #Regex para cambiar tildes por asterisco\n",
    "    if re.search(patron, palabras):\n",
    "        print(re.sub(r'[^a-zA-Z\\s]', '*', palabras))"
   ]
  },
  {
   "cell_type": "code",
   "execution_count": 55,
   "metadata": {
    "scrolled": true
   },
   "outputs": [
    {
     "name": "stdout",
     "output_type": "stream",
     "text": [
      "https://es.wikipedia.org/wiki/Felis_silvestris_catus\n",
      "#Encabezado: Felis silvestris catus\n",
      "#Palabras en negrilla:\n",
      "gato doméstico\n",
      "gato dom*stico\n",
      "Felis silvestris catus\n",
      "gato\n",
      "minino\n",
      "michino\n",
      "michi\n",
      "micho\n",
      "mizo\n",
      "miz\n",
      "morroño\n",
      "morro*o\n",
      "morrongo\n",
      "https://es.wikipedia.org/wiki/Canis_familiaris\n",
      "#Encabezado: Canis familiaris\n",
      "#Palabras en negrilla:\n",
      "perro\n",
      "Canis familiaris\n",
      "Canis lupus familiaris\n",
      "perro doméstico\n",
      "perro dom*stico\n",
      "can\n",
      "chucho\n",
      "tuso\n",
      "choco\n",
      "https://es.wikipedia.org/wiki/Pavo_cristatus\n",
      "#Encabezado: Pavo cristatus\n",
      "#Palabras en negrilla:\n",
      "pavo real común\n",
      "pavo real com*n\n",
      "Pavo cristatus\n",
      "pavo real de la India\n",
      "pavo real de pecho azul\n",
      "https://es.wikipedia.org/wiki/Oryctolagus_cuniculus\n",
      "#Encabezado: Oryctolagus cuniculus\n",
      "#Palabras en negrilla:\n",
      "conejo común\n",
      "conejo com*n\n",
      "conejo europeo \n",
      "Oryctolagus cuniculus\n",
      "https://es.wikipedia.org/wiki/Equus_ferus_caballus\n",
      "#Encabezado: Equus ferus caballus\n",
      "#Palabras en negrilla:\n",
      "caballo\n",
      "Equus ferus caballus\n",
      "https://es.wikipedia.org/wiki/Bos_primigenius_taurus\n",
      "#Encabezado: Bos primigenius taurus\n",
      "#Palabras en negrilla:\n",
      "vaca\n",
      "toro\n",
      "Bos primigenius taurus\n",
      "https://es.wikipedia.org/wiki/Canis_lupus\n",
      "#Encabezado: Canis lupus\n",
      "#Palabras en negrilla:\n",
      "https://es.wikipedia.org/wiki/%C3%81guila\n",
      "#Encabezado: Águila\n",
      "#Palabras en negrilla:\n",
      "Águila\n",
      "*guila\n",
      "https://es.wikipedia.org/wiki/Gallus_gallus_domesticus\n",
      "#Encabezado: Gallus gallus domesticus\n",
      "#Palabras en negrilla:\n",
      "gallo\n",
      "gallina\n",
      "Gallus gallus domesticus\n",
      "gallo\n",
      "gallina\n",
      "pollo\n",
      "https://es.wikipedia.org/wiki/Capra_aegagrus_hircus\n",
      "#Encabezado: Capra aegagrus hircus\n",
      "#Palabras en negrilla:\n",
      "cabra\n",
      "Capra aegagrus hircus\n",
      "cabrón\n",
      "cabr*n\n",
      "cabro\n",
      "chivato\n",
      "macho cabrío\n",
      "macho cabr*o\n",
      "irasco\n",
      "chivo\n",
      "cabrito\n",
      "chivo\n",
      "chivito\n"
     ]
    }
   ],
   "source": [
    "#Varias páginas\n",
    "enlaces = ['https://es.wikipedia.org/wiki/Felis_silvestris_catus','https://es.wikipedia.org/wiki/Canis_familiaris',\n",
    "          'https://es.wikipedia.org/wiki/Pavo_cristatus','https://es.wikipedia.org/wiki/Oryctolagus_cuniculus',\n",
    "          'https://es.wikipedia.org/wiki/Equus_ferus_caballus','https://es.wikipedia.org/wiki/Bos_primigenius_taurus',\n",
    "          'https://es.wikipedia.org/wiki/Canis_lupus','https://es.wikipedia.org/wiki/%C3%81guila',\n",
    "          'https://es.wikipedia.org/wiki/Gallus_gallus_domesticus','https://es.wikipedia.org/wiki/Capra_aegagrus_hircus']\n",
    "\n",
    "for links in enlaces:\n",
    "    request = urllib.request.Request(links, headers={'User-Agent': 'Mozilla/5.0'})\n",
    "    webpage = urllib.request.urlopen(request)\n",
    "    source = webpage.read()\n",
    "    webpage.close()\n",
    "    soup = bs.BeautifulSoup(source,'html.parser')\n",
    "    titulos = soup.find('h1').text\n",
    "    parrafos = soup.find('p').find_all('b')\n",
    "    print(links)\n",
    "    print('#Encabezado:',titulos)\n",
    "    print('#Palabras en negrilla:')\n",
    "    for negrillas in parrafos:\n",
    "        palabras = negrillas.text\n",
    "        patron = r'[^a-zA-Z\\s]'\n",
    "        print(palabras)\n",
    "        #Regex para cambiar tildes por asterisco\n",
    "        if re.search(patron, palabras):\n",
    "            print(re.sub(r'[^a-zA-Z\\s]', '*', palabras))"
   ]
  },
  {
   "cell_type": "markdown",
   "metadata": {},
   "source": [
    "# Punto 2:\n",
    "- `[10 pts]` Usando regex, reemplazar todas las tíldes del punto anterior por un asterisco (¡Ojo, los espacios se quedan!)\n"
   ]
  },
  {
   "cell_type": "code",
   "execution_count": null,
   "metadata": {},
   "outputs": [],
   "source": [
    "##La respuesta a este punto se encuentra integrada en el punto anterior."
   ]
  }
 ],
 "metadata": {
  "kernelspec": {
   "display_name": "Python 3",
   "language": "python",
   "name": "python3"
  },
  "language_info": {
   "codemirror_mode": {
    "name": "ipython",
    "version": 3
   },
   "file_extension": ".py",
   "mimetype": "text/x-python",
   "name": "python",
   "nbconvert_exporter": "python",
   "pygments_lexer": "ipython3",
   "version": "3.8.5"
  }
 },
 "nbformat": 4,
 "nbformat_minor": 2
}
