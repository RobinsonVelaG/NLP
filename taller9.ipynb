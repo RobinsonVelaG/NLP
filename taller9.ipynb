{
 "cells": [
  {
   "cell_type": "markdown",
   "metadata": {},
   "source": [
    "<img src='https://encrypted-tbn0.gstatic.com/images?q=tbn%3AANd9GcQ-VfNtOyJbsaxu43Kztf_cv1mgBG6ZIQZEVw&usqp=CAU'>\n",
    "\n",
    "# Procesamiento de Lenguaje Natural\n",
    "\n",
    "## Taller #9: Modelado de temas\n",
    "`Fecha de entrega: Mayo 6, 2021. (Antes del inicio de la próxima clase).`\n",
    "\n",
    "`Modo de entrega: Subir link de GitHub al aula virtual.`"
   ]
  },
  {
   "cell_type": "code",
   "execution_count": 1,
   "metadata": {},
   "outputs": [
    {
     "name": "stderr",
     "output_type": "stream",
     "text": [
      "D:\\DataScience\\Anaconda\\lib\\site-packages\\scipy\\sparse\\sparsetools.py:21: DeprecationWarning: `scipy.sparse.sparsetools` is deprecated!\n",
      "scipy.sparse.sparsetools is a private module for scipy.sparse, and should not be used.\n",
      "  _deprecated()\n"
     ]
    }
   ],
   "source": [
    "import re\n",
    "import pandas as pd \n",
    "from pprint import pprint\n",
    "\n",
    "from nltk.corpus import stopwords\n",
    "stopwords = stopwords.words('spanish')\n",
    "\n",
    "import pyLDAvis.gensim_models\n",
    "from gensim.models import LdaModel\n",
    "from gensim.corpora import Dictionary\n",
    "\n",
    "import warnings\n",
    "warnings.filterwarnings(\"ignore\", category=DeprecationWarning)"
   ]
  },
  {
   "cell_type": "code",
   "execution_count": 2,
   "metadata": {},
   "outputs": [
    {
     "data": {
      "text/html": [
       "<div>\n",
       "<style scoped>\n",
       "    .dataframe tbody tr th:only-of-type {\n",
       "        vertical-align: middle;\n",
       "    }\n",
       "\n",
       "    .dataframe tbody tr th {\n",
       "        vertical-align: top;\n",
       "    }\n",
       "\n",
       "    .dataframe thead th {\n",
       "        text-align: right;\n",
       "    }\n",
       "</style>\n",
       "<table border=\"1\" class=\"dataframe\">\n",
       "  <thead>\n",
       "    <tr style=\"text-align: right;\">\n",
       "      <th></th>\n",
       "      <th>review_id</th>\n",
       "      <th>product_id</th>\n",
       "      <th>reviewer_id</th>\n",
       "      <th>stars</th>\n",
       "      <th>review_body</th>\n",
       "      <th>review_title</th>\n",
       "      <th>language</th>\n",
       "      <th>product_category</th>\n",
       "    </tr>\n",
       "  </thead>\n",
       "  <tbody>\n",
       "    <tr>\n",
       "      <th>0</th>\n",
       "      <td>es_0825565</td>\n",
       "      <td>product_es_0370490</td>\n",
       "      <td>reviewer_es_0174781</td>\n",
       "      <td>3</td>\n",
       "      <td>Buen. Buena calidad, y buena presentación.</td>\n",
       "      <td>Contenta</td>\n",
       "      <td>es</td>\n",
       "      <td>jewelry</td>\n",
       "    </tr>\n",
       "    <tr>\n",
       "      <th>1</th>\n",
       "      <td>es_0227934</td>\n",
       "      <td>product_es_0354224</td>\n",
       "      <td>reviewer_es_0411613</td>\n",
       "      <td>3</td>\n",
       "      <td>Un producto a perfecto, para salir de casa con...</td>\n",
       "      <td>Versatilidad</td>\n",
       "      <td>es</td>\n",
       "      <td>video_games</td>\n",
       "    </tr>\n",
       "    <tr>\n",
       "      <th>2</th>\n",
       "      <td>es_0468601</td>\n",
       "      <td>product_es_0665460</td>\n",
       "      <td>reviewer_es_0348315</td>\n",
       "      <td>1</td>\n",
       "      <td>No funciona con Nintendo Switch. No hay forma ...</td>\n",
       "      <td>Decepción absoluta</td>\n",
       "      <td>es</td>\n",
       "      <td>video_games</td>\n",
       "    </tr>\n",
       "    <tr>\n",
       "      <th>3</th>\n",
       "      <td>es_0814494</td>\n",
       "      <td>product_es_0692692</td>\n",
       "      <td>reviewer_es_0951508</td>\n",
       "      <td>5</td>\n",
       "      <td>Recomendado, los utilizo para pc y no me dan n...</td>\n",
       "      <td>Auriculares Pecham ps4</td>\n",
       "      <td>es</td>\n",
       "      <td>video_games</td>\n",
       "    </tr>\n",
       "    <tr>\n",
       "      <th>4</th>\n",
       "      <td>es_0206329</td>\n",
       "      <td>product_es_0728826</td>\n",
       "      <td>reviewer_es_0493255</td>\n",
       "      <td>4</td>\n",
       "      <td>El cable funciona bien podria ser un poco mas ...</td>\n",
       "      <td>Perfecto</td>\n",
       "      <td>es</td>\n",
       "      <td>video_games</td>\n",
       "    </tr>\n",
       "  </tbody>\n",
       "</table>\n",
       "</div>"
      ],
      "text/plain": [
       "    review_id          product_id          reviewer_id  stars  \\\n",
       "0  es_0825565  product_es_0370490  reviewer_es_0174781      3   \n",
       "1  es_0227934  product_es_0354224  reviewer_es_0411613      3   \n",
       "2  es_0468601  product_es_0665460  reviewer_es_0348315      1   \n",
       "3  es_0814494  product_es_0692692  reviewer_es_0951508      5   \n",
       "4  es_0206329  product_es_0728826  reviewer_es_0493255      4   \n",
       "\n",
       "                                         review_body            review_title  \\\n",
       "0         Buen. Buena calidad, y buena presentación.                Contenta   \n",
       "1  Un producto a perfecto, para salir de casa con...            Versatilidad   \n",
       "2  No funciona con Nintendo Switch. No hay forma ...      Decepción absoluta   \n",
       "3  Recomendado, los utilizo para pc y no me dan n...  Auriculares Pecham ps4   \n",
       "4  El cable funciona bien podria ser un poco mas ...                Perfecto   \n",
       "\n",
       "  language product_category  \n",
       "0       es          jewelry  \n",
       "1       es      video_games  \n",
       "2       es      video_games  \n",
       "3       es      video_games  \n",
       "4       es      video_games  "
      ]
     },
     "execution_count": 2,
     "metadata": {},
     "output_type": "execute_result"
    }
   ],
   "source": [
    "# Cargar datos\n",
    "path = 'D:/KL/NLP/Taller 9/reviews_vidjew_es.csv'\n",
    "data = pd.read_csv(path)\n",
    "data.head()"
   ]
  },
  {
   "cell_type": "markdown",
   "metadata": {},
   "source": [
    "###  `[12 pts]` Punto 1: Hacer pre-procesamiento del texto"
   ]
  },
  {
   "cell_type": "code",
   "execution_count": 3,
   "metadata": {},
   "outputs": [
    {
     "data": {
      "text/html": [
       "<div>\n",
       "<style scoped>\n",
       "    .dataframe tbody tr th:only-of-type {\n",
       "        vertical-align: middle;\n",
       "    }\n",
       "\n",
       "    .dataframe tbody tr th {\n",
       "        vertical-align: top;\n",
       "    }\n",
       "\n",
       "    .dataframe thead th {\n",
       "        text-align: right;\n",
       "    }\n",
       "</style>\n",
       "<table border=\"1\" class=\"dataframe\">\n",
       "  <thead>\n",
       "    <tr style=\"text-align: right;\">\n",
       "      <th></th>\n",
       "      <th>review_id</th>\n",
       "      <th>product_id</th>\n",
       "      <th>reviewer_id</th>\n",
       "      <th>stars</th>\n",
       "      <th>review_body</th>\n",
       "      <th>review_title</th>\n",
       "      <th>language</th>\n",
       "      <th>product_category</th>\n",
       "      <th>pp</th>\n",
       "    </tr>\n",
       "  </thead>\n",
       "  <tbody>\n",
       "    <tr>\n",
       "      <th>0</th>\n",
       "      <td>es_0825565</td>\n",
       "      <td>product_es_0370490</td>\n",
       "      <td>reviewer_es_0174781</td>\n",
       "      <td>3</td>\n",
       "      <td>Buen. Buena calidad, y buena presentación.</td>\n",
       "      <td>Contenta</td>\n",
       "      <td>es</td>\n",
       "      <td>jewelry</td>\n",
       "      <td>[buen, buena, calidad, buena, presentación]</td>\n",
       "    </tr>\n",
       "    <tr>\n",
       "      <th>1</th>\n",
       "      <td>es_0227934</td>\n",
       "      <td>product_es_0354224</td>\n",
       "      <td>reviewer_es_0411613</td>\n",
       "      <td>3</td>\n",
       "      <td>Un producto a perfecto, para salir de casa con...</td>\n",
       "      <td>Versatilidad</td>\n",
       "      <td>es</td>\n",
       "      <td>video_games</td>\n",
       "      <td>[producto, perfecto, salir, casa, nintendo, sw...</td>\n",
       "    </tr>\n",
       "    <tr>\n",
       "      <th>2</th>\n",
       "      <td>es_0468601</td>\n",
       "      <td>product_es_0665460</td>\n",
       "      <td>reviewer_es_0348315</td>\n",
       "      <td>1</td>\n",
       "      <td>No funciona con Nintendo Switch. No hay forma ...</td>\n",
       "      <td>Decepción absoluta</td>\n",
       "      <td>es</td>\n",
       "      <td>video_games</td>\n",
       "      <td>[funciona, nintendo, switch, forma, emparejarl...</td>\n",
       "    </tr>\n",
       "    <tr>\n",
       "      <th>3</th>\n",
       "      <td>es_0814494</td>\n",
       "      <td>product_es_0692692</td>\n",
       "      <td>reviewer_es_0951508</td>\n",
       "      <td>5</td>\n",
       "      <td>Recomendado, los utilizo para pc y no me dan n...</td>\n",
       "      <td>Auriculares Pecham ps4</td>\n",
       "      <td>es</td>\n",
       "      <td>video_games</td>\n",
       "      <td>[recomendado, utilizo, pc, dan, ningún, proble...</td>\n",
       "    </tr>\n",
       "    <tr>\n",
       "      <th>4</th>\n",
       "      <td>es_0206329</td>\n",
       "      <td>product_es_0728826</td>\n",
       "      <td>reviewer_es_0493255</td>\n",
       "      <td>4</td>\n",
       "      <td>El cable funciona bien podria ser un poco mas ...</td>\n",
       "      <td>Perfecto</td>\n",
       "      <td>es</td>\n",
       "      <td>video_games</td>\n",
       "      <td>[cable, funciona, bien, podria, ser, mas, larg...</td>\n",
       "    </tr>\n",
       "  </tbody>\n",
       "</table>\n",
       "</div>"
      ],
      "text/plain": [
       "    review_id          product_id          reviewer_id  stars  \\\n",
       "0  es_0825565  product_es_0370490  reviewer_es_0174781      3   \n",
       "1  es_0227934  product_es_0354224  reviewer_es_0411613      3   \n",
       "2  es_0468601  product_es_0665460  reviewer_es_0348315      1   \n",
       "3  es_0814494  product_es_0692692  reviewer_es_0951508      5   \n",
       "4  es_0206329  product_es_0728826  reviewer_es_0493255      4   \n",
       "\n",
       "                                         review_body            review_title  \\\n",
       "0         Buen. Buena calidad, y buena presentación.                Contenta   \n",
       "1  Un producto a perfecto, para salir de casa con...            Versatilidad   \n",
       "2  No funciona con Nintendo Switch. No hay forma ...      Decepción absoluta   \n",
       "3  Recomendado, los utilizo para pc y no me dan n...  Auriculares Pecham ps4   \n",
       "4  El cable funciona bien podria ser un poco mas ...                Perfecto   \n",
       "\n",
       "  language product_category                                                 pp  \n",
       "0       es          jewelry        [buen, buena, calidad, buena, presentación]  \n",
       "1       es      video_games  [producto, perfecto, salir, casa, nintendo, sw...  \n",
       "2       es      video_games  [funciona, nintendo, switch, forma, emparejarl...  \n",
       "3       es      video_games  [recomendado, utilizo, pc, dan, ningún, proble...  \n",
       "4       es      video_games  [cable, funciona, bien, podria, ser, mas, larg...  "
      ]
     },
     "execution_count": 3,
     "metadata": {},
     "output_type": "execute_result"
    }
   ],
   "source": [
    "def pre_procesado(texto):\n",
    "    texto = texto.lower()\n",
    "    texto = re.sub(r\"[\\W\\d]+\", \" \", texto)\n",
    "    texto = [palabra for palabra in texto.split() if palabra not in stopwords]\n",
    "    return texto \n",
    "\n",
    "data['pp'] = data['review_body'].apply(lambda texto: pre_procesado(texto))\n",
    "\n",
    "data.head()"
   ]
  },
  {
   "cell_type": "markdown",
   "metadata": {},
   "source": [
    "###  `[10 pts]` Punto 2: Modelo de LDA"
   ]
  },
  {
   "cell_type": "code",
   "execution_count": 4,
   "metadata": {},
   "outputs": [],
   "source": [
    "# Crear una represantación de los documentos en forma de diccionario\n",
    "dictionary = Dictionary(data['pp'].values)"
   ]
  },
  {
   "cell_type": "code",
   "execution_count": 5,
   "metadata": {},
   "outputs": [],
   "source": [
    "# Filtrar palabras muy frecuentes o infrecuentes\n",
    "dictionary.filter_extremes(no_below=5, no_above=0.5)"
   ]
  },
  {
   "cell_type": "code",
   "execution_count": 6,
   "metadata": {},
   "outputs": [],
   "source": [
    "# Corpus\n",
    "corpus = [dictionary.doc2bow(text) for text in data['pp'].values]"
   ]
  },
  {
   "cell_type": "code",
   "execution_count": 7,
   "metadata": {},
   "outputs": [],
   "source": [
    "# Entrenar el modelo\n",
    "model = LdaModel(corpus = corpus, id2word = dictionary, num_topics = 2, passes=10)"
   ]
  },
  {
   "cell_type": "code",
   "execution_count": 8,
   "metadata": {},
   "outputs": [
    {
     "data": {
      "text/plain": [
       "[(0,\n",
       "  '0.029*\"bien\" + 0.020*\"si\" + 0.017*\"producto\" + 0.012*\"mando\" + 0.012*\"día\" + 0.012*\"llegado\" + 0.011*\"solo\" + 0.011*\"juego\" + 0.010*\"caja\" + 0.009*\"bonitos\"'),\n",
       " (1,\n",
       "  '0.035*\"calidad\" + 0.024*\"precio\" + 0.020*\"juego\" + 0.020*\"bien\" + 0.016*\"buena\" + 0.015*\"bonito\" + 0.014*\"buen\" + 0.012*\"bastante\" + 0.012*\"regalo\" + 0.012*\"parece\"')]"
      ]
     },
     "execution_count": 8,
     "metadata": {},
     "output_type": "execute_result"
    }
   ],
   "source": [
    "model.print_topics(num_words=10)"
   ]
  },
  {
   "cell_type": "markdown",
   "metadata": {},
   "source": [
    "###  `[25 pts]` Punto 3: Visualización de LDA"
   ]
  },
  {
   "cell_type": "code",
   "execution_count": 9,
   "metadata": {},
   "outputs": [
    {
     "data": {
      "text/html": [
       "\n",
       "<link rel=\"stylesheet\" type=\"text/css\" href=\"https://cdn.jsdelivr.net/gh/bmabey/pyLDAvis@3.3.1/pyLDAvis/js/ldavis.v1.0.0.css\">\n",
       "\n",
       "\n",
       "<div id=\"ldavis_el1330426488940971046139367255\"></div>\n",
       "<script type=\"text/javascript\">\n",
       "\n",
       "var ldavis_el1330426488940971046139367255_data = {\"mdsDat\": {\"x\": [0.10570067340125253, -0.10570067340125253], \"y\": [0.0, 0.0], \"topics\": [1, 2], \"cluster\": [1, 1], \"Freq\": [51.00712477455933, 48.99287522544067]}, \"tinfo\": {\"Term\": [\"calidad\", \"buena\", \"d\\u00eda\", \"bonito\", \"queda\", \"llegado\", \"mando\", \"cadena\", \"parece\", \"solo\", \"precio\", \"buen\", \"amazon\", \"bastante\", \"cumple\", \"colgante\", \"compra\", \"esperaba\", \"entrega\", \"grandes\", \"cable\", \"bueno\", \"mala\", \"bonita\", \"nunca\", \"despu\\u00e9s\", \"plata\", \"aunque\", \"cierre\", \"bonitos\", \"nunca\", \"entregado\", \"cable\", \"dinero\", \"grandes\", \"amazon\", \"d\\u00eda\", \"dem\\u00e1s\", \"nintendo\", \"mandos\", \"peque\\u00f1os\", \"veces\", \"dice\", \"vale\", \"esperando\", \"hacer\", \"trae\", \"rat\\u00f3n\", \"devoluci\\u00f3n\", \"bonitas\", \"mes\", \"hoy\", \"conectar\", \"jugando\", \"productos\", \"venia\", \"puse\", \"recibido\", \"ninguna\", \"pega\", \"solo\", \"despu\\u00e9s\", \"llegado\", \"adem\\u00e1s\", \"mando\", \"pedido\", \"problema\", \"paquete\", \"plata\", \"bonitos\", \"quedan\", \"puedo\", \"vez\", \"momento\", \"parte\", \"caja\", \"as\\u00ed\", \"pena\", \"si\", \"bien\", \"producto\", \"mal\", \"original\", \"puede\", \"funciona\", \"llego\", \"dos\", \"juego\", \"mas\", \"perfecto\", \"precio\", \"foto\", \"cadena\", \"espa\\u00f1ol\", \"queda\", \"q\", \"cumple\", \"fotos\", \"sonido\", \"malo\", \"expectativas\", \"versi\\u00f3n\", \"entrega\", \"colgante\", \"saga\", \"ideal\", \"relaci\\u00f3n\", \"excelente\", \"casi\", \"tacto\", \"contento\", \"historia\", \"preciosa\", \"acabados\", \"volver\\u00eda\", \"mala\", \"elegante\", \"cualquier\", \"materiales\", \"hijo\", \"divertido\", \"bolsita\", \"bueno\", \"calidad\", \"fina\", \"buena\", \"cierre\", \"bonita\", \"imagen\", \"parece\", \"bonito\", \"compra\", \"esperaba\", \"pues\", \"bastante\", \"buen\", \"gran\", \"precio\", \"aunque\", \"peque\\u00f1o\", \"gusto\", \"regalo\", \"recomiendo\", \"juego\", \"ps\", \"grande\", \"jugar\", \"tal\", \"bien\", \"mas\", \"viene\", \"perfecto\", \"lleg\\u00f3\", \"producto\", \"foto\", \"si\", \"tiempo\"], \"Freq\": [143.0, 65.0, 49.0, 63.0, 35.0, 50.0, 52.0, 32.0, 48.0, 46.0, 115.0, 60.0, 34.0, 53.0, 24.0, 25.0, 33.0, 34.0, 23.0, 24.0, 22.0, 25.0, 24.0, 26.0, 20.0, 27.0, 34.0, 42.0, 24.0, 39.0, 20.13622145462225, 14.57478196229571, 21.7834754904248, 12.661580531889776, 23.466908295706148, 33.31480746102871, 46.78965523348317, 17.091761103735102, 16.191709042108503, 14.371830103963534, 20.625778238401388, 11.645389298771434, 10.748836639589205, 18.795474802401976, 8.916166410207817, 18.721982856589822, 16.046677552772707, 8.909917284650856, 8.886330251478434, 7.955769656853663, 13.258571577509674, 9.703702750446258, 8.8166999632314, 7.043057542818513, 7.042864729609081, 7.034002513143879, 7.006492697472811, 13.995956707582117, 7.870204637774025, 11.36278715757435, 42.69368422465257, 25.32089584565476, 46.744268172547876, 17.465176918230338, 48.0766443044594, 22.454237139642046, 22.3503049769339, 13.057770777499968, 30.735446729341607, 33.94987035127455, 20.18288854357726, 19.311529244864676, 23.044432530887573, 19.20737954930486, 26.263343442058193, 37.53594795138344, 32.951308268102, 26.183927771070497, 77.61539787198011, 111.79339726192703, 66.04090270934597, 28.93009485076598, 25.730930888708613, 31.891074722585945, 25.14602100642093, 24.652138734698738, 25.712296772943965, 42.23886438103788, 27.438457704552217, 25.35837621665923, 28.40583168928916, 23.003198369847734, 31.687750474365547, 17.15300924130481, 34.29658325768913, 15.287402455849865, 23.379530706821615, 16.955385830611966, 13.369295827192552, 13.362269485647625, 11.571535803219778, 13.333194522324275, 22.118957719393222, 23.88669822147173, 10.598238994609153, 8.781549809659358, 7.8897967252083125, 12.269449755055074, 13.12207359413673, 8.74535871128891, 8.735743899364074, 9.605911143932506, 8.705595731009963, 6.933424264958914, 6.93240545406889, 22.511875090116813, 8.655831999426653, 8.648198688343008, 7.7584124269491435, 14.645309843398222, 6.02905346665464, 6.02751661632901, 23.217355007909124, 129.81388588530515, 13.774506273723055, 58.96026465345166, 22.242216569104922, 23.891844079865407, 12.049377968819329, 43.581911740690686, 56.129852589134714, 29.90343616394391, 30.539764724275383, 13.708070306303847, 45.860863918613255, 51.613564067949866, 16.90297578091177, 87.41825682338082, 35.27831633850859, 25.071487219865414, 18.010834196319944, 44.530887461198695, 23.239646244823223, 74.70666041003658, 23.569882570636683, 24.121981372334965, 25.778393472903762, 23.473269942694404, 74.06738593211462, 37.17185062993702, 26.710108119417402, 33.63777178585239, 27.884285943371772, 39.130692426214104, 29.444097503585123, 35.16300421373908, 23.55752214970314], \"Total\": [143.0, 65.0, 49.0, 63.0, 35.0, 50.0, 52.0, 32.0, 48.0, 46.0, 115.0, 60.0, 34.0, 53.0, 24.0, 25.0, 33.0, 34.0, 23.0, 24.0, 22.0, 25.0, 24.0, 26.0, 20.0, 27.0, 34.0, 42.0, 24.0, 39.0, 20.757023239857368, 15.094962573605786, 22.641446575730725, 13.206729942484294, 24.5264050316785, 34.90221832764811, 49.05164442593661, 17.92222985314183, 16.97894756250129, 15.091987266140253, 21.694507192590407, 12.261770804597365, 11.318573766708349, 19.807369218411203, 9.43151614189355, 19.80653197966805, 16.976867328622667, 9.431347935911536, 9.431066795435262, 8.487249679578234, 14.145767210025982, 10.373187237679945, 9.430022931852053, 7.543813348129065, 7.5438303948534955, 7.543703186671658, 7.543304209388819, 15.086773244432111, 8.486062060370935, 12.25767529797231, 46.20228891119084, 27.34471036379523, 50.912699688216684, 18.858227267127027, 52.792933605646994, 24.512468902785542, 24.510966950881524, 14.14300349678343, 34.8664844317503, 39.5653621439972, 22.619270099933356, 21.676374303858502, 26.382312356877513, 21.67486894206953, 31.081238407948245, 47.06213368957535, 40.48254658815325, 31.08013432674148, 112.7784020857192, 185.86078319404163, 105.17159513556007, 36.703464803019166, 32.00478518575715, 50.707916115975536, 34.78944424928468, 33.851743778694434, 39.45183538476366, 116.94552479107446, 64.61030833448923, 58.99614800251162, 115.82408851266997, 52.44729587343286, 32.59395047955896, 17.69435210249775, 35.3891763879587, 15.832501691404405, 24.214686684956185, 17.69696667050573, 13.971442716010573, 13.971539676461639, 12.108805541544479, 13.971964740914284, 23.28819601056602, 25.151527818614607, 11.178433942226574, 9.31593611407938, 8.384580645881018, 13.042818987423717, 13.974752315393468, 9.316444864009837, 9.316530601507994, 10.248279250268789, 9.316989507634963, 7.453969423700604, 7.453968556441609, 24.22667285163776, 9.317682947971312, 9.317766322659306, 8.386251788285932, 15.84131546207896, 6.522699272526452, 6.52273970391842, 25.160721368286165, 143.54955195132328, 14.9096214583929, 65.25001716715046, 24.230406607298317, 26.095256357348305, 13.045926749493862, 48.47426467664742, 63.40168997138842, 33.562529969113946, 34.497583495480114, 14.910403479224637, 53.16194194094251, 60.63298577211664, 18.6414774320957, 115.82408851266997, 42.92663746758289, 29.85438158000638, 20.513797075888174, 61.6757697277523, 27.992075218977917, 116.94552479107446, 28.931409372281806, 29.867617256258065, 33.620095913733, 29.876668989051602, 185.86078319404163, 64.61030833448923, 38.32671117008237, 58.99614800251162, 43.02983455701252, 105.17159513556007, 52.44729587343286, 112.7784020857192, 42.14639287899475], \"Category\": [\"Default\", \"Default\", \"Default\", \"Default\", \"Default\", \"Default\", \"Default\", \"Default\", \"Default\", \"Default\", \"Default\", \"Default\", \"Default\", \"Default\", \"Default\", \"Default\", \"Default\", \"Default\", \"Default\", \"Default\", \"Default\", \"Default\", \"Default\", \"Default\", \"Default\", \"Default\", \"Default\", \"Default\", \"Default\", \"Default\", \"Topic1\", \"Topic1\", \"Topic1\", \"Topic1\", \"Topic1\", \"Topic1\", \"Topic1\", \"Topic1\", \"Topic1\", \"Topic1\", \"Topic1\", \"Topic1\", \"Topic1\", \"Topic1\", \"Topic1\", \"Topic1\", \"Topic1\", \"Topic1\", \"Topic1\", \"Topic1\", \"Topic1\", \"Topic1\", \"Topic1\", \"Topic1\", \"Topic1\", \"Topic1\", \"Topic1\", \"Topic1\", \"Topic1\", \"Topic1\", \"Topic1\", \"Topic1\", \"Topic1\", \"Topic1\", \"Topic1\", \"Topic1\", \"Topic1\", \"Topic1\", \"Topic1\", \"Topic1\", \"Topic1\", \"Topic1\", \"Topic1\", \"Topic1\", \"Topic1\", \"Topic1\", \"Topic1\", \"Topic1\", \"Topic1\", \"Topic1\", \"Topic1\", \"Topic1\", \"Topic1\", \"Topic1\", \"Topic1\", \"Topic1\", \"Topic1\", \"Topic1\", \"Topic1\", \"Topic1\", \"Topic1\", \"Topic1\", \"Topic2\", \"Topic2\", \"Topic2\", \"Topic2\", \"Topic2\", \"Topic2\", \"Topic2\", \"Topic2\", \"Topic2\", \"Topic2\", \"Topic2\", \"Topic2\", \"Topic2\", \"Topic2\", \"Topic2\", \"Topic2\", \"Topic2\", \"Topic2\", \"Topic2\", \"Topic2\", \"Topic2\", \"Topic2\", \"Topic2\", \"Topic2\", \"Topic2\", \"Topic2\", \"Topic2\", \"Topic2\", \"Topic2\", \"Topic2\", \"Topic2\", \"Topic2\", \"Topic2\", \"Topic2\", \"Topic2\", \"Topic2\", \"Topic2\", \"Topic2\", \"Topic2\", \"Topic2\", \"Topic2\", \"Topic2\", \"Topic2\", \"Topic2\", \"Topic2\", \"Topic2\", \"Topic2\", \"Topic2\", \"Topic2\", \"Topic2\", \"Topic2\", \"Topic2\", \"Topic2\", \"Topic2\", \"Topic2\", \"Topic2\", \"Topic2\", \"Topic2\", \"Topic2\", \"Topic2\", \"Topic2\", \"Topic2\", \"Topic2\", \"Topic2\", \"Topic2\"], \"logprob\": [30.0, 29.0, 28.0, 27.0, 26.0, 25.0, 24.0, 23.0, 22.0, 21.0, 20.0, 19.0, 18.0, 17.0, 16.0, 15.0, 14.0, 13.0, 12.0, 11.0, 10.0, 9.0, 8.0, 7.0, 6.0, 5.0, 4.0, 3.0, 2.0, 1.0, -5.2561, -5.5793, -5.1775, -5.72, -5.103, -4.7526, -4.4129, -5.42, -5.4741, -5.5933, -5.2321, -5.8037, -5.8838, -5.325, -6.0707, -5.3289, -5.4831, -6.0714, -6.0741, -6.1847, -5.674, -5.9861, -6.082, -6.3066, -6.3066, -6.3079, -6.3118, -5.6198, -6.1955, -5.8283, -4.5046, -5.027, -4.4139, -5.3984, -4.3858, -5.1471, -5.1518, -5.6892, -4.8332, -4.7337, -5.2538, -5.2979, -5.1212, -5.3033, -4.9904, -4.6333, -4.7636, -4.9935, -3.9068, -3.542, -4.0683, -4.8937, -5.0109, -4.7963, -5.0339, -5.0537, -5.0116, -4.5153, -4.9467, -5.0255, -4.912, -5.123, -4.7624, -5.3761, -4.6833, -5.4913, -5.0665, -5.3877, -5.6254, -5.6259, -5.7698, -5.6281, -5.1219, -5.045, -5.8576, -6.0457, -6.1528, -5.7112, -5.644, -6.0498, -6.0509, -5.9559, -6.0544, -6.282, -6.2821, -5.1043, -6.0601, -6.061, -6.1695, -5.5342, -6.4217, -6.422, -5.0734, -3.3522, -5.5955, -4.1415, -5.1163, -5.0448, -5.7293, -4.4437, -4.1907, -4.8203, -4.7993, -5.6003, -4.3927, -4.2745, -5.3908, -3.7476, -4.6551, -4.9966, -5.3273, -4.4221, -5.0725, -3.9048, -5.0584, -5.0352, -4.9688, -5.0625, -3.9133, -4.6028, -4.9333, -4.7027, -4.8903, -4.5514, -4.8358, -4.6583, -5.0589], \"loglift\": [30.0, 29.0, 28.0, 27.0, 26.0, 25.0, 24.0, 23.0, 22.0, 21.0, 20.0, 19.0, 18.0, 17.0, 16.0, 15.0, 14.0, 13.0, 12.0, 11.0, 10.0, 9.0, 8.0, 7.0, 6.0, 5.0, 4.0, 3.0, 2.0, 1.0, 0.6428, 0.6381, 0.6346, 0.6311, 0.629, 0.6267, 0.626, 0.6258, 0.6257, 0.6243, 0.6227, 0.6216, 0.6216, 0.6208, 0.617, 0.6169, 0.6169, 0.6163, 0.6137, 0.6085, 0.6084, 0.6065, 0.606, 0.6045, 0.6045, 0.6032, 0.5994, 0.5982, 0.5979, 0.5974, 0.5942, 0.5963, 0.5878, 0.5965, 0.5796, 0.5855, 0.5809, 0.5934, 0.5471, 0.5201, 0.5592, 0.5577, 0.5379, 0.5523, 0.5048, 0.447, 0.4674, 0.5018, 0.2995, 0.1649, 0.2079, 0.4352, 0.455, 0.2094, 0.3486, 0.3561, 0.2451, -0.3452, -0.1832, -0.1712, -0.7323, -0.151, 0.6853, 0.6824, 0.6821, 0.6785, 0.6784, 0.6707, 0.6694, 0.6689, 0.6681, 0.6667, 0.662, 0.6619, 0.6602, 0.6544, 0.6527, 0.6524, 0.6505, 0.6502, 0.6491, 0.6488, 0.6456, 0.6411, 0.641, 0.6401, 0.6398, 0.6389, 0.6357, 0.635, 0.6348, 0.6345, 0.6331, 0.6129, 0.6343, 0.6121, 0.6279, 0.6253, 0.634, 0.6071, 0.5917, 0.5981, 0.5916, 0.6294, 0.5658, 0.5524, 0.6156, 0.4321, 0.5173, 0.5389, 0.5834, 0.3878, 0.5274, 0.2654, 0.5085, 0.4998, 0.4479, 0.4723, -0.2065, 0.1607, 0.3524, 0.1517, 0.2797, -0.2752, 0.1362, -0.4519, 0.1318]}, \"token.table\": {\"Topic\": [1, 2, 1, 2, 1, 2, 1, 2, 1, 2, 1, 2, 1, 2, 2, 1, 2, 1, 2, 1, 2, 1, 2, 1, 2, 1, 2, 1, 2, 1, 2, 1, 2, 1, 2, 1, 2, 1, 2, 1, 2, 1, 2, 1, 2, 1, 2, 1, 2, 1, 2, 1, 2, 1, 2, 1, 2, 1, 2, 1, 2, 1, 2, 2, 1, 2, 1, 2, 1, 2, 1, 2, 1, 2, 1, 2, 1, 2, 1, 2, 1, 2, 1, 2, 1, 2, 1, 2, 1, 2, 1, 2, 1, 2, 1, 2, 1, 2, 1, 2, 1, 2, 1, 2, 1, 2, 1, 2, 1, 2, 1, 2, 1, 2, 1, 2, 1, 2, 1, 2, 1, 2, 1, 2, 1, 2, 1, 2, 1, 2, 1, 2, 1, 2, 1, 2, 1, 2, 1, 2, 1, 2, 1, 2, 1, 2, 1, 2, 1, 2, 1, 2, 1, 2, 1, 2, 1, 2, 1, 2, 1, 2, 1, 2, 1, 2, 1, 2, 1, 2, 1, 2, 1, 2, 1, 2, 1, 2, 1, 2, 1, 2, 1, 2, 1, 2, 1, 2, 1, 2, 1, 2, 1, 2, 1, 2, 1, 2, 1, 2, 1, 2, 1, 2, 2, 1, 2, 1, 2, 1, 2, 1, 2, 1, 2, 1, 2, 1, 2, 1, 2, 1, 2, 1, 2, 1, 2, 1, 2, 1, 2, 1, 2, 1, 2], \"Freq\": [0.1341567080783032, 0.9390969565481225, 0.901463311434038, 0.05302725361376694, 0.945498641095221, 0.057302947945164905, 0.8151661093785308, 0.19761602651600746, 0.18636446905587228, 0.8153445521194412, 0.13167314331324248, 0.8652806560584506, 0.6026015713227153, 0.398147466766794, 0.9198588740856248, 0.07664228213020828, 0.9197073855624993, 0.9425903917083246, 0.11782379896354057, 0.11040715165729688, 0.883257213258375, 0.859337515381707, 0.15164779683206595, 0.1484340559085388, 0.8576189896937798, 0.09195399879558418, 0.904214321489911, 0.0794889769146643, 0.9141232345186395, 0.971669364252623, 0.04416678928421013, 0.030680539955632014, 0.9817772785802245, 0.807443203715545, 0.21248505360935394, 0.09752729848120535, 0.9056106287540497, 0.07155761887088904, 0.9302490453215576, 0.08254091779861383, 0.9079500957847523, 0.03975901612067882, 0.9542163868962917, 0.1191805267267103, 0.8938539504503272, 0.9543985274521919, 0.10604428082802132, 0.10733609352800685, 0.9660248417520617, 0.10732185862701463, 0.9658967276431316, 0.04129725125129404, 0.949836778779763, 0.948542683544472, 0.055796628443792476, 0.9142536039840576, 0.07314028831872461, 0.9542928912725013, 0.10603254347472237, 0.9718538949098534, 0.08835035408271395, 0.9843466215039901, 0.07571897088492231, 0.9198645758929809, 0.6590314429336087, 0.3548630846565586, 0.9581737890758301, 0.04077335272663107, 0.10732281894370795, 0.9659053704933716, 0.042940208831387924, 0.9446845942905344, 0.9937089891317894, 0.0662472659421193, 0.05651520859352851, 0.9607585460899846, 0.11595015055254758, 0.8986136667822437, 0.9542474258219406, 0.10602749175799339, 0.07667054192534838, 0.9200465031041806, 0.08258452880171119, 0.9910143456205343, 0.06707078397601313, 0.9389909756641838, 0.4385354786546895, 0.5529360383037389, 0.056506858978642285, 0.9606166026369188, 0.7186087774458781, 0.2874435109783513, 0.10728763357332011, 0.9119448853732209, 0.2008864633733995, 0.803545853493598, 0.937764828163484, 0.04077238383319496, 0.14624303774195888, 0.8774582264517533, 0.9592794952444992, 0.05048839448655259, 0.06312607071008758, 0.9468910606513136, 0.09757735670344583, 0.9757735670344583, 0.9640238598678363, 0.09640238598678363, 0.10734294307672183, 0.9660864876904964, 0.07665227769570274, 0.9198273323484327, 0.3591415753192253, 0.6413242416414737, 0.9279126718764938, 0.1325589531252134, 0.237952920197714, 0.7733469906425705, 0.9231488467086288, 0.07856585929435139, 0.738514392742582, 0.26586518138732956, 0.34859534447258217, 0.6507113096821534, 0.7901161417767433, 0.21796307359358436, 0.08255363880330753, 0.9493668462380366, 0.07157407294807575, 0.9304629483249848, 0.9092125919455569, 0.09470964499432885, 0.9276445674858083, 0.0662603262489863, 0.4178899729160911, 0.5726640369590877, 0.11924278274077318, 0.9539422619261855, 0.9190028230343062, 0.07069252484879279, 0.8765912287996455, 0.09227276092627847, 0.9427223066584915, 0.11784028833231144, 0.9423434486208476, 0.058896465538802976, 0.9635292965128188, 0.04817646482564094, 0.8123785193087496, 0.18747196599432683, 0.9191824072557582, 0.07070633901967371, 0.10314751617900787, 0.9076981423752694, 0.8365175048286092, 0.1608687509285787, 0.8975024134553811, 0.08159112849594373, 0.8973969152062334, 0.08158153774602123, 0.8365472210211617, 0.16087446558099264, 0.16747960384309296, 0.8373980192154648, 0.9679869569552789, 0.04609461699787042, 0.42375647981179526, 0.5763088125440415, 0.8891059854537734, 0.11472335296177721, 0.24174591278512056, 0.7511390861537675, 0.10733080671396412, 0.9659772604256771, 0.8975574094684494, 0.0815961281334954, 0.6275458683965935, 0.37082255859798713, 0.9279105750807304, 0.13255865358296148, 0.17282255197668764, 0.8295482494881006, 0.6310651758358967, 0.37469494815256366, 0.8765303520625175, 0.09226635284868605, 0.06706726624757987, 0.9389417274661181, 0.9279753017633052, 0.13256790025190074, 0.0631612122639411, 0.9474181839591164, 0.028257227267381498, 0.960745727090971, 0.8842018293092015, 0.08842018293092016, 0.9542644446114535, 0.10602938273460595, 0.9279651634697172, 0.06628322596212266, 0.1786219835751987, 0.821661124445914, 0.2756349872087692, 0.7296220249643891, 0.9541323934823209, 0.08945796926191033, 0.9840376618810136, 0.6916217871283079, 0.31034310960885614, 0.9306898210747476, 0.08657579730927885, 0.0715745696651678, 0.9304694056471814, 0.10733708132198357, 0.9660337318978521, 0.20082560081241715, 0.7698314697809324, 0.45080963522905343, 0.5694437497630148, 0.9424589172010734, 0.05890368232506709, 0.9592389474084856, 0.050486260389920296, 0.9786514681468995, 0.08155428901224163, 0.9279262222786969, 0.13256088889695672, 0.07157189547377593, 0.9304346411590871, 0.8717962128897397, 0.11371254950735736, 0.31309756651823384, 0.7044695246660261, 0.1341567236872518, 0.9390970658107625], \"Term\": [\"acabados\", \"acabados\", \"adem\\u00e1s\", \"adem\\u00e1s\", \"amazon\", \"amazon\", \"as\\u00ed\", \"as\\u00ed\", \"aunque\", \"aunque\", \"bastante\", \"bastante\", \"bien\", \"bien\", \"bolsita\", \"bonita\", \"bonita\", \"bonitas\", \"bonitas\", \"bonito\", \"bonito\", \"bonitos\", \"bonitos\", \"buen\", \"buen\", \"buena\", \"buena\", \"bueno\", \"bueno\", \"cable\", \"cable\", \"cadena\", \"cadena\", \"caja\", \"caja\", \"calidad\", \"calidad\", \"casi\", \"casi\", \"cierre\", \"cierre\", \"colgante\", \"colgante\", \"compra\", \"compra\", \"conectar\", \"conectar\", \"contento\", \"contento\", \"cualquier\", \"cualquier\", \"cumple\", \"cumple\", \"dem\\u00e1s\", \"dem\\u00e1s\", \"despu\\u00e9s\", \"despu\\u00e9s\", \"devoluci\\u00f3n\", \"devoluci\\u00f3n\", \"dice\", \"dice\", \"dinero\", \"dinero\", \"divertido\", \"dos\", \"dos\", \"d\\u00eda\", \"d\\u00eda\", \"elegante\", \"elegante\", \"entrega\", \"entrega\", \"entregado\", \"entregado\", \"espa\\u00f1ol\", \"espa\\u00f1ol\", \"esperaba\", \"esperaba\", \"esperando\", \"esperando\", \"excelente\", \"excelente\", \"expectativas\", \"expectativas\", \"fina\", \"fina\", \"foto\", \"foto\", \"fotos\", \"fotos\", \"funciona\", \"funciona\", \"gran\", \"gran\", \"grande\", \"grande\", \"grandes\", \"grandes\", \"gusto\", \"gusto\", \"hacer\", \"hacer\", \"hijo\", \"hijo\", \"historia\", \"historia\", \"hoy\", \"hoy\", \"ideal\", \"ideal\", \"imagen\", \"imagen\", \"juego\", \"juego\", \"jugando\", \"jugando\", \"jugar\", \"jugar\", \"llegado\", \"llegado\", \"llego\", \"llego\", \"lleg\\u00f3\", \"lleg\\u00f3\", \"mal\", \"mal\", \"mala\", \"mala\", \"malo\", \"malo\", \"mando\", \"mando\", \"mandos\", \"mandos\", \"mas\", \"mas\", \"materiales\", \"materiales\", \"mes\", \"mes\", \"momento\", \"momento\", \"ninguna\", \"ninguna\", \"nintendo\", \"nintendo\", \"nunca\", \"nunca\", \"original\", \"original\", \"paquete\", \"paquete\", \"parece\", \"parece\", \"parte\", \"parte\", \"pedido\", \"pedido\", \"pega\", \"pega\", \"pena\", \"pena\", \"peque\\u00f1o\", \"peque\\u00f1o\", \"peque\\u00f1os\", \"peque\\u00f1os\", \"perfecto\", \"perfecto\", \"plata\", \"plata\", \"precio\", \"precio\", \"preciosa\", \"preciosa\", \"problema\", \"problema\", \"producto\", \"producto\", \"productos\", \"productos\", \"ps\", \"ps\", \"puede\", \"puede\", \"puedo\", \"puedo\", \"pues\", \"pues\", \"puse\", \"puse\", \"q\", \"q\", \"queda\", \"queda\", \"quedan\", \"quedan\", \"rat\\u00f3n\", \"rat\\u00f3n\", \"recibido\", \"recibido\", \"recomiendo\", \"recomiendo\", \"regalo\", \"regalo\", \"relaci\\u00f3n\", \"saga\", \"saga\", \"si\", \"si\", \"solo\", \"solo\", \"sonido\", \"sonido\", \"tacto\", \"tacto\", \"tal\", \"tal\", \"tiempo\", \"tiempo\", \"trae\", \"trae\", \"vale\", \"vale\", \"veces\", \"veces\", \"venia\", \"venia\", \"versi\\u00f3n\", \"versi\\u00f3n\", \"vez\", \"vez\", \"viene\", \"viene\", \"volver\\u00eda\", \"volver\\u00eda\"]}, \"R\": 30, \"lambda.step\": 0.01, \"plot.opts\": {\"xlab\": \"PC1\", \"ylab\": \"PC2\"}, \"topic.order\": [1, 2]};\n",
       "\n",
       "function LDAvis_load_lib(url, callback){\n",
       "  var s = document.createElement('script');\n",
       "  s.src = url;\n",
       "  s.async = true;\n",
       "  s.onreadystatechange = s.onload = callback;\n",
       "  s.onerror = function(){console.warn(\"failed to load library \" + url);};\n",
       "  document.getElementsByTagName(\"head\")[0].appendChild(s);\n",
       "}\n",
       "\n",
       "if(typeof(LDAvis) !== \"undefined\"){\n",
       "   // already loaded: just create the visualization\n",
       "   !function(LDAvis){\n",
       "       new LDAvis(\"#\" + \"ldavis_el1330426488940971046139367255\", ldavis_el1330426488940971046139367255_data);\n",
       "   }(LDAvis);\n",
       "}else if(typeof define === \"function\" && define.amd){\n",
       "   // require.js is available: use it to load d3/LDAvis\n",
       "   require.config({paths: {d3: \"https://d3js.org/d3.v5\"}});\n",
       "   require([\"d3\"], function(d3){\n",
       "      window.d3 = d3;\n",
       "      LDAvis_load_lib(\"https://cdn.jsdelivr.net/gh/bmabey/pyLDAvis@3.3.1/pyLDAvis/js/ldavis.v3.0.0.js\", function(){\n",
       "        new LDAvis(\"#\" + \"ldavis_el1330426488940971046139367255\", ldavis_el1330426488940971046139367255_data);\n",
       "      });\n",
       "    });\n",
       "}else{\n",
       "    // require.js not available: dynamically load d3 & LDAvis\n",
       "    LDAvis_load_lib(\"https://d3js.org/d3.v5.js\", function(){\n",
       "         LDAvis_load_lib(\"https://cdn.jsdelivr.net/gh/bmabey/pyLDAvis@3.3.1/pyLDAvis/js/ldavis.v3.0.0.js\", function(){\n",
       "                 new LDAvis(\"#\" + \"ldavis_el1330426488940971046139367255\", ldavis_el1330426488940971046139367255_data);\n",
       "            })\n",
       "         });\n",
       "}\n",
       "</script>"
      ],
      "text/plain": [
       "<IPython.core.display.HTML object>"
      ]
     },
     "execution_count": 9,
     "metadata": {},
     "output_type": "execute_result"
    }
   ],
   "source": [
    "lda_display = pyLDAvis.gensim_models.prepare(model, corpus, dictionary)\n",
    "pyLDAvis.display(lda_display)"
   ]
  },
  {
   "cell_type": "markdown",
   "metadata": {},
   "source": [
    "###  `[3 pts]` Preguntas\n",
    "\n",
    "- ¿Qué conclusiones puede sacar de los resultados de los últimos tres talleres, usando diferentes modelos pero los mismos datos?"
   ]
  }
 ],
 "metadata": {
  "kernelspec": {
   "display_name": "Python 3",
   "language": "python",
   "name": "python3"
  },
  "language_info": {
   "codemirror_mode": {
    "name": "ipython",
    "version": 3
   },
   "file_extension": ".py",
   "mimetype": "text/x-python",
   "name": "python",
   "nbconvert_exporter": "python",
   "pygments_lexer": "ipython3",
   "version": "3.8.8"
  }
 },
 "nbformat": 4,
 "nbformat_minor": 2
}
