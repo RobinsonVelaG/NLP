{
 "cells": [
  {
   "cell_type": "markdown",
   "metadata": {},
   "source": [
    "<img src='https://encrypted-tbn0.gstatic.com/images?q=tbn%3AANd9GcQ-VfNtOyJbsaxu43Kztf_cv1mgBG6ZIQZEVw&usqp=CAU'>\n",
    "\n",
    "# Procesamiento de Lenguaje Natural\n",
    "\n",
    "## Taller #12: Análisis de sentimiento\n",
    "`Fecha de entrega: Mayo 27, 2021 (Antes del inicio de la próxima clase).`\n",
    "\n",
    "`Modo de entrega: Subir link de GitHub al aula virtual.`"
   ]
  },
  {
   "cell_type": "markdown",
   "metadata": {},
   "source": [
    "###  `[25 pts]` Punto 1: Hacer análisis de sentimiento de los datos del anterior taller\n",
    "- Columna con el puntaje numérico del sentimiento\n",
    "- Pueden usar cualquiera de las librerias vistas en clase"
   ]
  },
  {
   "cell_type": "code",
   "execution_count": 3,
   "metadata": {},
   "outputs": [
    {
     "data": {
      "text/html": [
       "<div>\n",
       "<style scoped>\n",
       "    .dataframe tbody tr th:only-of-type {\n",
       "        vertical-align: middle;\n",
       "    }\n",
       "\n",
       "    .dataframe tbody tr th {\n",
       "        vertical-align: top;\n",
       "    }\n",
       "\n",
       "    .dataframe thead th {\n",
       "        text-align: right;\n",
       "    }\n",
       "</style>\n",
       "<table border=\"1\" class=\"dataframe\">\n",
       "  <thead>\n",
       "    <tr style=\"text-align: right;\">\n",
       "      <th></th>\n",
       "      <th>tweets</th>\n",
       "      <th>date</th>\n",
       "    </tr>\n",
       "  </thead>\n",
       "  <tbody>\n",
       "    <tr>\n",
       "      <th>0</th>\n",
       "      <td>Paro nacional: Duque in english, ¿el president...</td>\n",
       "      <td>2021-05-27 11:02:37</td>\n",
       "    </tr>\n",
       "    <tr>\n",
       "      <th>1</th>\n",
       "      <td>#ParoNacional27M\\nA organizarnos y resistir si...</td>\n",
       "      <td>2021-05-27 10:57:44</td>\n",
       "    </tr>\n",
       "    <tr>\n",
       "      <th>2</th>\n",
       "      <td>Claudia López entregó informe de violaciones d...</td>\n",
       "      <td>2021-05-27 10:55:02</td>\n",
       "    </tr>\n",
       "    <tr>\n",
       "      <th>3</th>\n",
       "      <td>Paro nacional: Policía capturó a cuatro person...</td>\n",
       "      <td>2021-05-27 10:50:43</td>\n",
       "    </tr>\n",
       "    <tr>\n",
       "      <th>4</th>\n",
       "      <td>#VIDEO Paro Nacional: testimonios de abuso pol...</td>\n",
       "      <td>2021-05-27 10:35:00</td>\n",
       "    </tr>\n",
       "  </tbody>\n",
       "</table>\n",
       "</div>"
      ],
      "text/plain": [
       "                                              tweets                 date\n",
       "0  Paro nacional: Duque in english, ¿el president...  2021-05-27 11:02:37\n",
       "1  #ParoNacional27M\\nA organizarnos y resistir si...  2021-05-27 10:57:44\n",
       "2  Claudia López entregó informe de violaciones d...  2021-05-27 10:55:02\n",
       "3  Paro nacional: Policía capturó a cuatro person...  2021-05-27 10:50:43\n",
       "4  #VIDEO Paro Nacional: testimonios de abuso pol...  2021-05-27 10:35:00"
      ]
     },
     "execution_count": 3,
     "metadata": {},
     "output_type": "execute_result"
    }
   ],
   "source": [
    "import pandas as pd\n",
    "paro = pd.read_csv(\"D:/KL/NLP/Taller 11/tweets.csv\")\n",
    "paro.head()"
   ]
  },
  {
   "cell_type": "code",
   "execution_count": 9,
   "metadata": {},
   "outputs": [
    {
     "name": "stdout",
     "output_type": "stream",
     "text": [
      "2021-05-27 06:30:32,283 loading file C:\\Users\\robin\\.flair\\models\\sentiment-en-mix-distillbert_4.pt\n"
     ]
    }
   ],
   "source": [
    "from flair.models import TextClassifier\n",
    "from flair.data import Sentence\n",
    "\n",
    "classifier = TextClassifier.load('en-sentiment')"
   ]
  },
  {
   "cell_type": "code",
   "execution_count": 10,
   "metadata": {},
   "outputs": [],
   "source": [
    "def sent_flair(texto):\n",
    "    frase = Sentence(texto)\n",
    "    classifier.predict(frase)\n",
    "    result = frase.labels[0]\n",
    "    label = result.value\n",
    "    score = result.score\n",
    "    if label == 'NEGATIVE':\n",
    "        return score * -1\n",
    "    return score"
   ]
  },
  {
   "cell_type": "code",
   "execution_count": 18,
   "metadata": {},
   "outputs": [
    {
     "data": {
      "text/html": [
       "<div>\n",
       "<style scoped>\n",
       "    .dataframe tbody tr th:only-of-type {\n",
       "        vertical-align: middle;\n",
       "    }\n",
       "\n",
       "    .dataframe tbody tr th {\n",
       "        vertical-align: top;\n",
       "    }\n",
       "\n",
       "    .dataframe thead th {\n",
       "        text-align: right;\n",
       "    }\n",
       "</style>\n",
       "<table border=\"1\" class=\"dataframe\">\n",
       "  <thead>\n",
       "    <tr style=\"text-align: right;\">\n",
       "      <th></th>\n",
       "      <th>tweets</th>\n",
       "      <th>date</th>\n",
       "      <th>sent_flair</th>\n",
       "    </tr>\n",
       "  </thead>\n",
       "  <tbody>\n",
       "    <tr>\n",
       "      <th>0</th>\n",
       "      <td>Paro nacional: Duque in english, ¿el presidente en drogas? via @lasillavacia https://t.co/RO96JWSgtD</td>\n",
       "      <td>2021-05-27 11:02:37</td>\n",
       "      <td>-0.902476</td>\n",
       "    </tr>\n",
       "    <tr>\n",
       "      <th>1</th>\n",
       "      <td>#ParoNacional27M\\nA organizarnos y resistir sin miedo\\nViva el paro nacional!!! https://t.co/RjV4OJBZ71</td>\n",
       "      <td>2021-05-27 10:57:44</td>\n",
       "      <td>0.997762</td>\n",
       "    </tr>\n",
       "    <tr>\n",
       "      <th>2</th>\n",
       "      <td>Claudia López entregó informe de violaciones de DD. HH durante el Paro Nacional a la ONU. \\nhttps://t.co/Fy9eR3CSou https://t.co/0GFSo0sMcW</td>\n",
       "      <td>2021-05-27 10:55:02</td>\n",
       "      <td>0.924477</td>\n",
       "    </tr>\n",
       "    <tr>\n",
       "      <th>3</th>\n",
       "      <td>Paro nacional: Policía capturó a cuatro personas acusadas de vandalismo en Portal Américas #MañanasBLU https://t.co/ecUYqRVDnh</td>\n",
       "      <td>2021-05-27 10:50:43</td>\n",
       "      <td>-0.886072</td>\n",
       "    </tr>\n",
       "    <tr>\n",
       "      <th>4</th>\n",
       "      <td>#VIDEO Paro Nacional: testimonios de abuso policial durante las manifestaciones\\nhttps://t.co/ha8oohxCGi https://t.co/1ZhxUrJirA</td>\n",
       "      <td>2021-05-27 10:35:00</td>\n",
       "      <td>0.931739</td>\n",
       "    </tr>\n",
       "  </tbody>\n",
       "</table>\n",
       "</div>"
      ],
      "text/plain": [
       "                                                                                                                                        tweets  \\\n",
       "0                                         Paro nacional: Duque in english, ¿el presidente en drogas? via @lasillavacia https://t.co/RO96JWSgtD   \n",
       "1                                      #ParoNacional27M\\nA organizarnos y resistir sin miedo\\nViva el paro nacional!!! https://t.co/RjV4OJBZ71   \n",
       "2  Claudia López entregó informe de violaciones de DD. HH durante el Paro Nacional a la ONU. \\nhttps://t.co/Fy9eR3CSou https://t.co/0GFSo0sMcW   \n",
       "3               Paro nacional: Policía capturó a cuatro personas acusadas de vandalismo en Portal Américas #MañanasBLU https://t.co/ecUYqRVDnh   \n",
       "4             #VIDEO Paro Nacional: testimonios de abuso policial durante las manifestaciones\\nhttps://t.co/ha8oohxCGi https://t.co/1ZhxUrJirA   \n",
       "\n",
       "                  date  sent_flair  \n",
       "0  2021-05-27 11:02:37   -0.902476  \n",
       "1  2021-05-27 10:57:44    0.997762  \n",
       "2  2021-05-27 10:55:02    0.924477  \n",
       "3  2021-05-27 10:50:43   -0.886072  \n",
       "4  2021-05-27 10:35:00    0.931739  "
      ]
     },
     "execution_count": 18,
     "metadata": {},
     "output_type": "execute_result"
    }
   ],
   "source": [
    "pd.set_option('display.max_colwidth', None)\n",
    "paro['sent_flair'] = paro['tweets'].apply(lambda val: sent_flair(val))\n",
    "paro.head()"
   ]
  },
  {
   "cell_type": "markdown",
   "metadata": {},
   "source": [
    "###  `[10 pts]` Punto 2: ¿Cuál es el tuit más positivo y más negativo?"
   ]
  },
  {
   "cell_type": "code",
   "execution_count": 32,
   "metadata": {},
   "outputs": [
    {
     "name": "stdout",
     "output_type": "stream",
     "text": [
      "tweet negativo: @asantosrubino “Pero que hptas, que viva el paro nacional”... *Sarcasmo* (Aclaración por si las moscas)\n",
      "score: -0.9992941617965698\n"
     ]
    }
   ],
   "source": [
    "tweetN = paro.loc[paro[\"sent_flair\"].idxmin()]\n",
    "print(f\"tweet negativo: {tweetN.tweets}\")\n",
    "print(f\"score: {tweetN.sent_flair}\")"
   ]
  },
  {
   "cell_type": "code",
   "execution_count": 31,
   "metadata": {},
   "outputs": [
    {
     "name": "stdout",
     "output_type": "stream",
     "text": [
      "tweet positivo: Nacional decidió unirse al paro nacional #respect\n",
      "score: 0.9989950060844421\n"
     ]
    }
   ],
   "source": [
    "tweetP = paro.loc[paro[\"sent_flair\"].idxmax()]\n",
    "print(f\"tweet positivo: {tweetP.tweets}\")\n",
    "print(f\"score: {tweetP.sent_flair}\")"
   ]
  },
  {
   "cell_type": "markdown",
   "metadata": {},
   "source": [
    "###  `[10 pts]` Punto 3: ¿Cuántos tuits positivos/negativos hay en sus datos?"
   ]
  },
  {
   "cell_type": "code",
   "execution_count": 34,
   "metadata": {},
   "outputs": [
    {
     "data": {
      "text/html": [
       "<div>\n",
       "<style scoped>\n",
       "    .dataframe tbody tr th:only-of-type {\n",
       "        vertical-align: middle;\n",
       "    }\n",
       "\n",
       "    .dataframe tbody tr th {\n",
       "        vertical-align: top;\n",
       "    }\n",
       "\n",
       "    .dataframe thead th {\n",
       "        text-align: right;\n",
       "    }\n",
       "</style>\n",
       "<table border=\"1\" class=\"dataframe\">\n",
       "  <thead>\n",
       "    <tr style=\"text-align: right;\">\n",
       "      <th></th>\n",
       "      <th>tweets</th>\n",
       "      <th>date</th>\n",
       "      <th>sent_flair</th>\n",
       "      <th>sentimiento</th>\n",
       "    </tr>\n",
       "  </thead>\n",
       "  <tbody>\n",
       "    <tr>\n",
       "      <th>0</th>\n",
       "      <td>Paro nacional: Duque in english, ¿el presidente en drogas? via @lasillavacia https://t.co/RO96JWSgtD</td>\n",
       "      <td>2021-05-27 11:02:37</td>\n",
       "      <td>-0.902476</td>\n",
       "      <td>Negativo</td>\n",
       "    </tr>\n",
       "    <tr>\n",
       "      <th>1</th>\n",
       "      <td>#ParoNacional27M\\nA organizarnos y resistir sin miedo\\nViva el paro nacional!!! https://t.co/RjV4OJBZ71</td>\n",
       "      <td>2021-05-27 10:57:44</td>\n",
       "      <td>0.997762</td>\n",
       "      <td>Positivo</td>\n",
       "    </tr>\n",
       "    <tr>\n",
       "      <th>2</th>\n",
       "      <td>Claudia López entregó informe de violaciones de DD. HH durante el Paro Nacional a la ONU. \\nhttps://t.co/Fy9eR3CSou https://t.co/0GFSo0sMcW</td>\n",
       "      <td>2021-05-27 10:55:02</td>\n",
       "      <td>0.924477</td>\n",
       "      <td>Positivo</td>\n",
       "    </tr>\n",
       "    <tr>\n",
       "      <th>3</th>\n",
       "      <td>Paro nacional: Policía capturó a cuatro personas acusadas de vandalismo en Portal Américas #MañanasBLU https://t.co/ecUYqRVDnh</td>\n",
       "      <td>2021-05-27 10:50:43</td>\n",
       "      <td>-0.886072</td>\n",
       "      <td>Negativo</td>\n",
       "    </tr>\n",
       "    <tr>\n",
       "      <th>4</th>\n",
       "      <td>#VIDEO Paro Nacional: testimonios de abuso policial durante las manifestaciones\\nhttps://t.co/ha8oohxCGi https://t.co/1ZhxUrJirA</td>\n",
       "      <td>2021-05-27 10:35:00</td>\n",
       "      <td>0.931739</td>\n",
       "      <td>Positivo</td>\n",
       "    </tr>\n",
       "  </tbody>\n",
       "</table>\n",
       "</div>"
      ],
      "text/plain": [
       "                                                                                                                                        tweets  \\\n",
       "0                                         Paro nacional: Duque in english, ¿el presidente en drogas? via @lasillavacia https://t.co/RO96JWSgtD   \n",
       "1                                      #ParoNacional27M\\nA organizarnos y resistir sin miedo\\nViva el paro nacional!!! https://t.co/RjV4OJBZ71   \n",
       "2  Claudia López entregó informe de violaciones de DD. HH durante el Paro Nacional a la ONU. \\nhttps://t.co/Fy9eR3CSou https://t.co/0GFSo0sMcW   \n",
       "3               Paro nacional: Policía capturó a cuatro personas acusadas de vandalismo en Portal Américas #MañanasBLU https://t.co/ecUYqRVDnh   \n",
       "4             #VIDEO Paro Nacional: testimonios de abuso policial durante las manifestaciones\\nhttps://t.co/ha8oohxCGi https://t.co/1ZhxUrJirA   \n",
       "\n",
       "                  date  sent_flair sentimiento  \n",
       "0  2021-05-27 11:02:37   -0.902476    Negativo  \n",
       "1  2021-05-27 10:57:44    0.997762    Positivo  \n",
       "2  2021-05-27 10:55:02    0.924477    Positivo  \n",
       "3  2021-05-27 10:50:43   -0.886072    Negativo  \n",
       "4  2021-05-27 10:35:00    0.931739    Positivo  "
      ]
     },
     "execution_count": 34,
     "metadata": {},
     "output_type": "execute_result"
    }
   ],
   "source": [
    "paro['sentimiento'] = \" \"\n",
    "paro.loc[paro['sent_flair']>0, 'sentimiento'] = 'Positivo'\n",
    "paro.loc[paro['sent_flair']<0, 'sentimiento'] = 'Negativo'\n",
    "paro.loc[paro['sent_flair']==0, 'sentimiento'] = 'Neutro'\n",
    "paro.head()"
   ]
  },
  {
   "cell_type": "code",
   "execution_count": 43,
   "metadata": {},
   "outputs": [
    {
     "data": {
      "text/html": [
       "<div>\n",
       "<style scoped>\n",
       "    .dataframe tbody tr th:only-of-type {\n",
       "        vertical-align: middle;\n",
       "    }\n",
       "\n",
       "    .dataframe tbody tr th {\n",
       "        vertical-align: top;\n",
       "    }\n",
       "\n",
       "    .dataframe thead th {\n",
       "        text-align: right;\n",
       "    }\n",
       "</style>\n",
       "<table border=\"1\" class=\"dataframe\">\n",
       "  <thead>\n",
       "    <tr style=\"text-align: right;\">\n",
       "      <th></th>\n",
       "      <th>sentimiento</th>\n",
       "      <th>tweets</th>\n",
       "    </tr>\n",
       "  </thead>\n",
       "  <tbody>\n",
       "    <tr>\n",
       "      <th>0</th>\n",
       "      <td>Positivo</td>\n",
       "      <td>68</td>\n",
       "    </tr>\n",
       "    <tr>\n",
       "      <th>1</th>\n",
       "      <td>Negativo</td>\n",
       "      <td>32</td>\n",
       "    </tr>\n",
       "  </tbody>\n",
       "</table>\n",
       "</div>"
      ],
      "text/plain": [
       "  sentimiento  tweets\n",
       "0    Positivo      68\n",
       "1    Negativo      32"
      ]
     },
     "execution_count": 43,
     "metadata": {},
     "output_type": "execute_result"
    }
   ],
   "source": [
    "aggparo = pd.DataFrame(paro.sentimiento.value_counts()).reset_index()\n",
    "aggparo.columns = ['sentimiento', 'tweets']\n",
    "aggparo"
   ]
  },
  {
   "cell_type": "markdown",
   "metadata": {},
   "source": [
    "###  `[5 pts]` : Punto 4: Una visualización sobre sus datos"
   ]
  },
  {
   "cell_type": "code",
   "execution_count": 36,
   "metadata": {},
   "outputs": [],
   "source": [
    "import matplotlib.pyplot as plt\n",
    "%matplotlib inline"
   ]
  },
  {
   "cell_type": "code",
   "execution_count": 39,
   "metadata": {},
   "outputs": [
    {
     "data": {
      "text/plain": [
       "<AxesSubplot:>"
      ]
     },
     "execution_count": 39,
     "metadata": {},
     "output_type": "execute_result"
    },
    {
     "data": {
      "image/png": "[encoded data removed]",
      "text/plain": [
       "<Figure size 432x288 with 1 Axes>"
      ]
     },
     "metadata": {
      "needs_background": "light"
     },
     "output_type": "display_data"
    }
   ],
   "source": [
    "aggparo.plot(kind = 'bar')"
   ]
  },
  {
   "cell_type": "code",
   "execution_count": 45,
   "metadata": {},
   "outputs": [
    {
     "data": {
      "image/png": "[encoded data removed]",
      "text/plain": [
       "<Figure size 432x288 with 1 Axes>"
      ]
     },
     "metadata": {
      "needs_background": "light"
     },
     "output_type": "display_data"
    }
   ],
   "source": [
    "fig, ax = plt.subplots()\n",
    "ax.set_ylabel('Tweets')\n",
    "ax.set_title('Cantidad de tweets por sentimiento')\n",
    "plt.bar(aggparo['sentimiento'], aggparo['tweets'])\n",
    "plt.show()"
   ]
  }
 ],
 "metadata": {
  "kernelspec": {
   "display_name": "Python 3",
   "language": "python",
   "name": "python3"
  },
  "language_info": {
   "codemirror_mode": {
    "name": "ipython",
    "version": 3
   },
   "file_extension": ".py",
   "mimetype": "text/x-python",
   "name": "python",
   "nbconvert_exporter": "python",
   "pygments_lexer": "ipython3",
   "version": "3.8.8"
  }
 },
 "nbformat": 4,
 "nbformat_minor": 2
}
